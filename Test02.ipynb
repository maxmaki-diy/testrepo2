{
 "cells": [
  {
   "cell_type": "markdown",
   "id": "799bf2ce-fb97-4135-a1bd-616ee756fbc5",
   "metadata": {
    "tags": []
   },
   "source": [
    "## Test Code\n",
    "### Mark1\n",
    "this is a test code"
   ]
  },
  {
   "cell_type": "code",
   "execution_count": 1,
   "id": "ba15b958-7694-48d8-b1a3-1de46730a02c",
   "metadata": {},
   "outputs": [
    {
     "name": "stdout",
     "output_type": "stream",
     "text": [
      "Hej, munde\n"
     ]
    }
   ],
   "source": [
    "print(\"Hello, world\")"
   ]
  },
  {
   "cell_type": "code",
   "execution_count": 2,
   "id": "a42f0cd9-1796-4fa8-bf9d-24566d0f9632",
   "metadata": {},
   "outputs": [
    {
     "name": "stdout",
     "output_type": "stream",
     "text": [
      "3\n"
     ]
    }
   ],
   "source": [
    "one = 1\n",
    "two = 2\n",
    "print(one + two)"
   ]
  },
  {
   "cell_type": "code",
   "execution_count": null,
   "id": "0f53fc3a-772b-4114-8760-69aa61098852",
   "metadata": {},
   "outputs": [],
   "source": []
  }
 ],
 "metadata": {
  "kernelspec": {
   "display_name": "Python",
   "language": "python",
   "name": "conda-env-python-py"
  },
  "language_info": {
   "codemirror_mode": {
    "name": "ipython",
    "version": 3
   },
   "file_extension": ".py",
   "mimetype": "text/x-python",
   "name": "python",
   "nbconvert_exporter": "python",
   "pygments_lexer": "ipython3",
   "version": "3.7.12"
  }
 },
 "nbformat": 4,
 "nbformat_minor": 5
}
